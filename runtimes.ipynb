{
 "cells": [
  {
   "cell_type": "markdown",
   "metadata": {},
   "source": [
    "All of the non-`solve_ivp` calculations are set to 50,000 solves. This is for consistency as they either run 10,000 or 100,000 solves."
   ]
  },
  {
   "cell_type": "code",
   "execution_count": 1,
   "metadata": {
    "ExecuteTime": {
     "end_time": "2025-03-13T13:26:24.816679Z",
     "start_time": "2025-03-13T13:26:24.805992Z"
    }
   },
   "outputs": [],
   "source": [
    "%load_ext autoreload\n",
    "%autoreload 2"
   ]
  },
  {
   "cell_type": "code",
   "execution_count": null,
   "metadata": {
    "ExecuteTime": {
     "end_time": "2025-03-13T13:26:30.741704Z",
     "start_time": "2025-03-13T13:26:24.817682Z"
    }
   },
   "outputs": [],
   "source": [
    "import scipy\n",
    "import numpy as np\n",
    "from matplotlib import pyplot as plt\n",
    "from matplotlib.ticker import AutoMinorLocator\n",
    "import pandas\n",
    "\n",
    "import sys\n",
    "sys.path.append(\"./modules\")\n",
    "from modules.Plot import setup_rc_params\n",
    "setup_rc_params()\n",
    "\n",
    "from modules import Potential, FOM, ROM, FOM_scipy\n",
    "from modules.ROM import apply_range_factor"
   ]
  },
  {
   "cell_type": "code",
   "execution_count": 3,
   "metadata": {
    "ExecuteTime": {
     "end_time": "2025-03-13T13:26:30.870224Z",
     "start_time": "2025-03-13T13:26:30.743532Z"
    }
   },
   "outputs": [],
   "source": [
    "np.random.seed(12345)"
   ]
  },
  {
   "cell_type": "code",
   "execution_count": 4,
   "metadata": {
    "ExecuteTime": {
     "end_time": "2025-03-13T13:26:30.900630Z",
     "start_time": "2025-03-13T13:26:30.884630Z"
    }
   },
   "outputs": [],
   "source": [
    "n = 1000\n",
    "r = np.linspace(0, 12, n)\n",
    "\n",
    "l = ll = j = 0\n",
    "S = 0\n",
    "\n",
    "number_of_snapshots = 8  # number of snapshots used in Figs. 7 and 8\n",
    "\n",
    "tolerances = 1e-12  # for solve_ivp"
   ]
  },
  {
   "cell_type": "markdown",
   "metadata": {},
   "source": [
    "# Minnesota runtimes"
   ]
  },
  {
   "cell_type": "code",
   "execution_count": 5,
   "metadata": {
    "ExecuteTime": {
     "end_time": "2025-03-13T13:26:35.566800Z",
     "start_time": "2025-03-13T13:26:30.906258Z"
    }
   },
   "outputs": [
    {
     "name": "stderr",
     "output_type": "stream",
     "text": [
      "/Users/joshuamaldonado/Documents/GitHub/greedy-emulators/modules/SpecialFunctions.py:52: RuntimeWarning: invalid value encountered in multiply\n",
      "  riccati_bessel_G = -rho * spherical_yn(l, rho)\n",
      "/Users/joshuamaldonado/Documents/GitHub/greedy-emulators/modules/FOM.py:99: RuntimeWarning: invalid value encountered in divide\n",
      "  self.l_prestore_over_rsq = self.l * (self.l + 1) / (self.r ** 2)\n",
      "/Users/joshuamaldonado/Documents/GitHub/greedy-emulators/modules/gram_schmidt.py:79: NumbaPerformanceWarning: np.vdot() is faster on contiguous arrays, called on (Array(float64, 1, 'A', False, aligned=True), Array(float64, 1, 'A', False, aligned=True))\n",
      "  orthogonal_matrix[:, k] -= np.vdot(orthonormal_matrix[:, j],\n"
     ]
    },
    {
     "name": "stdout",
     "output_type": "stream",
     "text": [
      "\n",
      "\n",
      "\n",
      "number of snapshots in emulator: 8\n"
     ]
    }
   ],
   "source": [
    "# paper's solver\n",
    "minnesota_potential = Potential.Potential(\"minnesota-no-const\", r, \n",
    "                                          l=l, ll=ll, j=j, S=S)\n",
    "minnesota_solver = FOM.MatrixNumerovSolver(minnesota_potential, use_ab=False)\n",
    "\n",
    "theta_minnesota = minnesota_potential.default_theta\n",
    "theta_vec_minnesota = minnesota_solver.theta_args(minnesota_potential.default_theta)\n",
    "\n",
    "solveivp_minnesota = FOM_scipy.FOM(r, l, ll, j, S, potential_name=\"minnesota\", atol=tolerances, rtol=tolerances)\n",
    "\n",
    "minnesota_emulator = ROM.Emulator({\"V_r\": [0, 400], \"V_s\": [-400, 0]}, \n",
    "                                  minnesota_solver,\n",
    "                                  sampling_method=\"LHS\",\n",
    "                                  param_pts=200,\n",
    "                                  snapshot_max=number_of_snapshots, \n",
    "                                  use_practically=False,  # get the projections for the G-ROM and the LSPG-ROM\n",
    "                                  ignore_error_bounds=True,\n",
    "                                  use_scaled_estimated_error=True,\n",
    "                                  emulation_method=\"LSPG-ROM\", \n",
    "                                  error_estimation_method=\"LSPG-ROM\",\n",
    "                                  use_einsum_paths=False,\n",
    "                                  orth_cutoff=1e-12,\n",
    "                                  cutoff_accuracy=1e-6,\n",
    "                                  verbose=False)\n",
    "\n",
    "minnesota_emulator.train()\n",
    "# minnesota_emulator.convergence_plot(dpi=100)\n",
    "# minnesota_emulator.emulation_errors_at_theta(dpi=100)\n",
    "\n",
    "print(\"\\n\\n\")\n",
    "print(f\"number of snapshots in emulator: {minnesota_emulator.snapshots.shape[1]}\")"
   ]
  },
  {
   "cell_type": "code",
   "execution_count": 6,
   "metadata": {
    "ExecuteTime": {
     "end_time": "2025-03-13T13:27:38.507271Z",
     "start_time": "2025-03-13T13:26:35.570869Z"
    }
   },
   "outputs": [
    {
     "name": "stdout",
     "output_type": "stream",
     "text": [
      "FOM runtimes:\n",
      "solve_ivp runtime:\n",
      "32.5 ms ± 300 µs per loop (mean ± std. dev. of 7 runs, 10 loops each)\n",
      "Numerov runtime:\n",
      "90.5 µs ± 705 ns per loop (mean ± std. dev. of 7 runs, 50,000 loops each)\n",
      "\n",
      "\n",
      "ROM runtimes:\n",
      "Numerov G-ROM runtime:\n",
      "8.88 µs ± 178 ns per loop (mean ± std. dev. of 7 runs, 50,000 loops each)\n",
      "Numerov G-ROM w/ error runtime:\n",
      "25.4 µs ± 334 ns per loop (mean ± std. dev. of 7 runs, 50,000 loops each)\n",
      "Numerov LSPG-ROM runtime:\n",
      "22.8 µs ± 187 ns per loop (mean ± std. dev. of 7 runs, 50,000 loops each)\n",
      "Numerov LSPG-ROM w/ error runtime:\n",
      "24.5 µs ± 415 ns per loop (mean ± std. dev. of 7 runs, 50,000 loops each)\n"
     ]
    }
   ],
   "source": [
    "print(\"FOM runtimes:\")\n",
    "print(\"solve_ivp runtime:\")\n",
    "solveivp_timeit_MN = %timeit -o solveivp_minnesota.solve(theta_minnesota)\n",
    "solveivp_avg_MN = solveivp_timeit_MN.average\n",
    "\n",
    "print(\"Numerov runtime:\")\n",
    "numerov_timeit_MN = %timeit -o -n 50000 minnesota_emulator.FOM(theta_minnesota, theta_vec=theta_vec_minnesota)\n",
    "numerov_avg_MN = numerov_timeit_MN.average\n",
    "\n",
    "print(\"\\n\\nROM runtimes:\")\n",
    "print(\"Numerov G-ROM runtime:\")\n",
    "GROM_timeit_MN = %timeit -o -n 50000 minnesota_emulator.emulate(theta_minnesota, theta_vec=theta_vec_minnesota, emulation_method=\"G-ROM\", estimate_error=False)\n",
    "GROM_avg_MN = GROM_timeit_MN.average\n",
    "print(\"Numerov G-ROM w/ error runtime:\")\n",
    "GROM_error_timeit_MN = %timeit -o -n 50000 minnesota_emulator.emulate(theta_minnesota, theta_vec=theta_vec_minnesota, emulation_method=\"G-ROM\", estimate_error=True, error_estimation_method=\"G-ROM\")\n",
    "GROM_error_avg_MN = GROM_error_timeit_MN.average\n",
    "\n",
    "print(\"Numerov LSPG-ROM runtime:\")\n",
    "LSPGROM_timeit_MN = %timeit -o -n 50000 minnesota_emulator.emulate(theta_minnesota, theta_vec=theta_vec_minnesota, emulation_method=\"LSPG-ROM\", estimate_error=False)\n",
    "LSPGROM_avg_MN = LSPGROM_timeit_MN.average\n",
    "print(\"Numerov LSPG-ROM w/ error runtime:\")\n",
    "LSPGROM_error_timeit_MN = %timeit -o -n 50000 minnesota_emulator.emulate(theta_minnesota, theta_vec=theta_vec_minnesota, emulation_method=\"LSPG-ROM\", estimate_error=True, error_estimation_method=\"LSPG-ROM\")\n",
    "LSPGROM_error_avg_MN = LSPGROM_error_timeit_MN.average"
   ]
  },
  {
   "cell_type": "code",
   "execution_count": 7,
   "metadata": {
    "ExecuteTime": {
     "end_time": "2025-03-13T13:27:38.519050Z",
     "start_time": "2025-03-13T13:27:38.507957Z"
    }
   },
   "outputs": [
    {
     "name": "stdout",
     "output_type": "stream",
     "text": [
      "Minnesota: \n",
      "\n",
      "      Method      |  Speedup  \n",
      "-------------------------------\n",
      "     solve_ivp    |  2.79e-03\n",
      "      Numerov     |  1.0\n",
      "-------------------------------\n",
      "       G-ROM      |  10.2\n",
      "  G-ROM w/ error  |  3.56\n",
      "     LSPG-ROM     |  3.97\n",
      "LSPG-ROM w/ error |  3.7\n"
     ]
    }
   ],
   "source": [
    "print(\"Minnesota: \\n\")\n",
    "\n",
    "print(f\"      Method      |  Speedup  \")\n",
    "print(f\"-------------------------------\")\n",
    "print(f\"     solve_ivp    |  {numerov_avg_MN / solveivp_avg_MN:.2e}\")\n",
    "print(f\"      Numerov     |  {numerov_avg_MN / numerov_avg_MN:.3}\")\n",
    "print(f\"-------------------------------\")\n",
    "print(f\"       G-ROM      |  {numerov_avg_MN / GROM_avg_MN:.3}\")\n",
    "print(f\"  G-ROM w/ error  |  {numerov_avg_MN / GROM_error_avg_MN:.3}\")\n",
    "print(f\"     LSPG-ROM     |  {numerov_avg_MN / LSPGROM_avg_MN:.3}\")\n",
    "print(f\"LSPG-ROM w/ error |  {numerov_avg_MN / LSPGROM_error_avg_MN:.3}\")"
   ]
  },
  {
   "cell_type": "markdown",
   "metadata": {},
   "source": [
    "# Chiral runtimes"
   ]
  },
  {
   "cell_type": "code",
   "execution_count": 8,
   "metadata": {
    "ExecuteTime": {
     "end_time": "2025-03-13T13:27:38.655462Z",
     "start_time": "2025-03-13T13:27:38.519724Z"
    }
   },
   "outputs": [
    {
     "ename": "ImportError",
     "evalue": "cannot import name 'chiralPot' from 'chiral_construction' (unknown location)",
     "output_type": "error",
     "traceback": [
      "\u001b[0;31m---------------------------------------------------------------------------\u001b[0m",
      "\u001b[0;31mImportError\u001b[0m                               Traceback (most recent call last)",
      "Cell \u001b[0;32mIn[8], line 1\u001b[0m\n\u001b[0;32m----> 1\u001b[0m chiral_potential \u001b[38;5;241m=\u001b[39m \u001b[43mPotential\u001b[49m\u001b[38;5;241;43m.\u001b[39;49m\u001b[43mPotential\u001b[49m\u001b[43m(\u001b[49m\u001b[38;5;124;43m\"\u001b[39;49m\u001b[38;5;124;43mchiral\u001b[39;49m\u001b[38;5;124;43m\"\u001b[39;49m\u001b[43m,\u001b[49m\u001b[43m \u001b[49m\u001b[43mr\u001b[49m\u001b[43m,\u001b[49m\n\u001b[1;32m      2\u001b[0m \u001b[43m                                       \u001b[49m\u001b[43ml\u001b[49m\u001b[38;5;241;43m=\u001b[39;49m\u001b[43ml\u001b[49m\u001b[43m,\u001b[49m\u001b[43m \u001b[49m\u001b[43mll\u001b[49m\u001b[38;5;241;43m=\u001b[39;49m\u001b[43mll\u001b[49m\u001b[43m,\u001b[49m\u001b[43m \u001b[49m\u001b[43mj\u001b[49m\u001b[38;5;241;43m=\u001b[39;49m\u001b[43mj\u001b[49m\u001b[43m,\u001b[49m\u001b[43m \u001b[49m\u001b[43mS\u001b[49m\u001b[38;5;241;43m=\u001b[39;49m\u001b[43mS\u001b[49m\u001b[43m)\u001b[49m\n\u001b[1;32m      3\u001b[0m chiral_solver \u001b[38;5;241m=\u001b[39m FOM\u001b[38;5;241m.\u001b[39mMatrixNumerovSolver(chiral_potential, use_ab\u001b[38;5;241m=\u001b[39m\u001b[38;5;28;01mFalse\u001b[39;00m)\n\u001b[1;32m      4\u001b[0m chiral_what_to_vary \u001b[38;5;241m=\u001b[39m apply_range_factor(chiral_potential\u001b[38;5;241m.\u001b[39mdefault_theta, \u001b[38;5;241m0.5\u001b[39m)\n",
      "File \u001b[0;32m~/Documents/GitHub/greedy-emulators/modules/Potential.py:184\u001b[0m, in \u001b[0;36mPotential.__init__\u001b[0;34m(self, label, r, l, ll, j, S, potId, channel, chiral_flags)\u001b[0m\n\u001b[1;32m    181\u001b[0m \u001b[38;5;28;01melif\u001b[39;00m \u001b[38;5;28mself\u001b[39m\u001b[38;5;241m.\u001b[39mname \u001b[38;5;241m==\u001b[39m \u001b[38;5;124m\"\u001b[39m\u001b[38;5;124mchiral\u001b[39m\u001b[38;5;124m\"\u001b[39m:\n\u001b[1;32m    182\u001b[0m     \u001b[38;5;66;03m# The first thing to do is get the relevant functions defined for chiral interactions:\u001b[39;00m\n\u001b[1;32m    183\u001b[0m     \u001b[38;5;28;01mfrom\u001b[39;00m \u001b[38;5;21;01mchiral_construction\u001b[39;00m\u001b[38;5;21;01m.\u001b[39;00m\u001b[38;5;21;01mChannel\u001b[39;00m \u001b[38;5;28;01mimport\u001b[39;00m Channel\n\u001b[0;32m--> 184\u001b[0m     \u001b[38;5;28;01mfrom\u001b[39;00m \u001b[38;5;21;01mchiral_construction\u001b[39;00m \u001b[38;5;28;01mimport\u001b[39;00m chiralPot\n\u001b[1;32m    186\u001b[0m     \u001b[38;5;28mself\u001b[39m\u001b[38;5;241m.\u001b[39mpotId \u001b[38;5;241m=\u001b[39m potId\n\u001b[1;32m    187\u001b[0m     \u001b[38;5;28mself\u001b[39m\u001b[38;5;241m.\u001b[39mchannel \u001b[38;5;241m=\u001b[39m channel\n",
      "\u001b[0;31mImportError\u001b[0m: cannot import name 'chiralPot' from 'chiral_construction' (unknown location)"
     ]
    }
   ],
   "source": [
    "chiral_potential = Potential.Potential(\"chiral\", r,\n",
    "                                       l=l, ll=ll, j=j, S=S)\n",
    "chiral_solver = FOM.MatrixNumerovSolver(chiral_potential, use_ab=False)\n",
    "chiral_what_to_vary = apply_range_factor(chiral_potential.default_theta, 0.5)\n",
    "chiral_what_to_vary.pop(\"C0\")\n",
    "\n",
    "theta_chiral = chiral_potential.default_theta\n",
    "theta_vec_chiral = chiral_solver.theta_args(chiral_potential.default_theta)\n",
    "\n",
    "solveivp_chiral = FOM_scipy.FOM(r, l, ll, j, S, potential_name=\"chiral\", atol=tolerances, rtol=tolerances)\n",
    "\n",
    "chiral_emulator = ROM.Emulator(chiral_what_to_vary, \n",
    "                               chiral_solver,\n",
    "                               sampling_method=\"LHS\",\n",
    "                               param_pts=200,\n",
    "                               snapshot_max=number_of_snapshots, \n",
    "                               use_practically=False,  # get the projections for the G-ROM and the LSPG-ROM\n",
    "                               ignore_error_bounds=True,\n",
    "                               use_scaled_estimated_error=True,\n",
    "                               emulation_method=\"LSPG-ROM\", \n",
    "                               error_estimation_method=\"LSPG-ROM\",\n",
    "                               use_einsum_paths=False,\n",
    "                               orth_cutoff=1e-12,\n",
    "                               cutoff_accuracy=1e-6,\n",
    "                               verbose=False)\n",
    "\n",
    "chiral_emulator.train()\n",
    "# chiral_emulator.convergence_plot(dpi=100)\n",
    "# chiral_emulator.emulation_errors_at_theta(dpi=100)\n",
    "\n",
    "print(\"\\n\\n\")\n",
    "print(f\"number of snapshots in emulator: {chiral_emulator.snapshots.shape[1]}\")"
   ]
  },
  {
   "cell_type": "code",
   "execution_count": null,
   "metadata": {},
   "outputs": [],
   "source": [
    "# # visual check that solve_ivp agrees with Numerov\n",
    "\n",
    "# numerov_chi_chiral = chiral_emulator.FOM(theta_chiral)[:-2]\n",
    "# solveivp_chi_chiral = solveivp_chiral.solve(theta_chiral)\n",
    "\n",
    "\n",
    "# plt.title(\"Chiral potential solution\")\n",
    "# plt.plot(r, numerov_chi_chiral,\n",
    "#            linestyle=(0, (2, 2)), alpha=0.9, label=\"Numerov\")\n",
    "# plt.plot(r, solveivp_chi_chiral,\n",
    "#            linestyle=(2, (2, 2)), alpha=0.9, label=\"solve_ivp\")\n",
    "# plt.legend()\n",
    "# plt.show()"
   ]
  },
  {
   "cell_type": "code",
   "execution_count": null,
   "metadata": {},
   "outputs": [],
   "source": [
    "print(\"FOM runtimes:\")\n",
    "print(\"solve_ivp runtime:\")\n",
    "solveivp_timeit_Ch = %timeit -o solveivp_chiral.solve(theta_chiral)\n",
    "solveivp_avg_Ch = solveivp_timeit_Ch.average\n",
    "\n",
    "print(\"Numerov runtime:\")\n",
    "numerov_timeit_Ch = %timeit -o -n 50000 chiral_emulator.FOM(theta_chiral, theta_vec=theta_vec_chiral)\n",
    "numerov_avg_Ch = numerov_timeit_Ch.average\n",
    "\n",
    "print(\"\\n\\nROM runtimes:\")\n",
    "print(\"Numerov G-ROM runtime:\")\n",
    "GROM_timeit_Ch = %timeit -o -n 50000 chiral_emulator.emulate(theta_chiral, theta_vec=theta_vec_chiral, emulation_method=\"G-ROM\", estimate_error=False)\n",
    "GROM_avg_Ch = GROM_timeit_Ch.average\n",
    "print(\"Numerov G-ROM w/ error runtime:\")\n",
    "GROM_error_timeit_Ch = %timeit -o -n 50000 chiral_emulator.emulate(theta_chiral, theta_vec=theta_vec_chiral, emulation_method=\"G-ROM\", estimate_error=True, error_estimation_method=\"G-ROM\")\n",
    "GROM_error_avg_Ch = GROM_error_timeit_Ch.average\n",
    "\n",
    "print(\"Numerov LSPG-ROM runtime:\")\n",
    "LSPGROM_timeit_Ch = %timeit -o -n 50000 chiral_emulator.emulate(theta_chiral, theta_vec=theta_vec_chiral, emulation_method=\"LSPG-ROM\", estimate_error=False)\n",
    "LSPGROM_avg_Ch = LSPGROM_timeit_Ch.average\n",
    "print(\"Numerov LSPG-ROM w/ error runtime:\")\n",
    "LSPGROM_error_timeit_Ch = %timeit -o -n 50000 chiral_emulator.emulate(theta_chiral, theta_vec=theta_vec_chiral, emulation_method=\"LSPG-ROM\", estimate_error=True, error_estimation_method=\"LSPG-ROM\")\n",
    "LSPGROM_error_avg_Ch = LSPGROM_error_timeit_Ch.average"
   ]
  },
  {
   "cell_type": "code",
   "execution_count": null,
   "metadata": {},
   "outputs": [],
   "source": [
    "print(\"Chiral:\\n\")\n",
    "\n",
    "print(f\"      Method      |  Speedup  \")\n",
    "print(f\"-------------------------------\")\n",
    "print(f\"     solve_ivp    |  {numerov_avg_Ch / solveivp_avg_Ch:.2e}\")\n",
    "print(f\"      Numerov     |  {numerov_avg_Ch / numerov_avg_Ch:.3}\")\n",
    "print(f\"-------------------------------\")\n",
    "print(f\"       G-ROM      |  {numerov_avg_Ch / GROM_avg_Ch:.3}\")\n",
    "print(f\"  G-ROM w/ error  |  {numerov_avg_Ch / GROM_error_avg_Ch:.3}\")\n",
    "print(f\"     LSPG-ROM     |  {numerov_avg_Ch / LSPGROM_avg_Ch:.3}\")\n",
    "print(f\"LSPG-ROM w/ error |  {numerov_avg_Ch / LSPGROM_error_avg_Ch:.3}\")"
   ]
  }
 ],
 "metadata": {
  "kernelspec": {
   "display_name": "venv",
   "language": "python",
   "name": "python3"
  },
  "language_info": {
   "codemirror_mode": {
    "name": "ipython",
    "version": 3
   },
   "file_extension": ".py",
   "mimetype": "text/x-python",
   "name": "python",
   "nbconvert_exporter": "python",
   "pygments_lexer": "ipython3",
   "version": "3.12.6"
  }
 },
 "nbformat": 4,
 "nbformat_minor": 2
}
